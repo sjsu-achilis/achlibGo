{
 "cells": [
  {
   "cell_type": "code",
   "execution_count": 13,
   "metadata": {},
   "outputs": [
    {
     "name": "stdout",
     "output_type": "stream",
     "text": [
      "efabcd\n"
     ]
    }
   ],
   "source": [
    "s = \"abcdef\"\n",
    "\n",
    "ls = 10\n",
    "\n",
    "ls = ls % len(s)\n",
    "\n",
    "\n",
    "y = s[ls:]+s[:ls]\n",
    "\n",
    "print y"
   ]
  },
  {
   "cell_type": "code",
   "execution_count": 21,
   "metadata": {},
   "outputs": [
    {
     "name": "stdout",
     "output_type": "stream",
     "text": [
      "defabc\n"
     ]
    }
   ],
   "source": [
    "s = \"abcdef\"\n",
    "\n",
    "rs = 3\n",
    "\n",
    "rs = len(s) - (rs % len(s))\n",
    "\n",
    "z = s[rs:]+s[:rs]\n",
    "\n",
    "print z"
   ]
  },
  {
   "cell_type": "code",
   "execution_count": 35,
   "metadata": {},
   "outputs": [
    {
     "ename": "SyntaxError",
     "evalue": "invalid syntax (<ipython-input-35-693e500bca3d>, line 27)",
     "output_type": "error",
     "traceback": [
      "\u001b[0;36m  File \u001b[0;32m\"<ipython-input-35-693e500bca3d>\"\u001b[0;36m, line \u001b[0;32m27\u001b[0m\n\u001b[0;31m    if\u001b[0m\n\u001b[0m       ^\u001b[0m\n\u001b[0;31mSyntaxError\u001b[0m\u001b[0;31m:\u001b[0m invalid syntax\n"
     ]
    }
   ],
   "source": [
    "def getUmbrellas(n, p):\n",
    "    count = 0\n",
    "    # check for n == p[i]\n",
    "    for i in range(len(p)):\n",
    "        if p[i]==n:\n",
    "            return 1\n",
    "    \n",
    "    # check if n == sum[p]\n",
    "    if n == sum(p):\n",
    "        return len(p)\n",
    "    \n",
    "    # check for other conditions\n",
    "    p = sorted(p)[::-1]\n",
    "    for i in range(len(p)):\n",
    "        while n>= p[i]:\n",
    "            if(n%p[i]==0):\n",
    "                count += 1\n",
    "                n -= p[i]\n",
    "                \n",
    "    # assign value               \n",
    "    if(count==0):\n",
    "        return -1\n",
    "    \n",
    "    return count\n",
    "\n",
    "def backtrack(buf, lookup, count):\n",
    "    if "
   ]
  },
  {
   "cell_type": "code",
   "execution_count": 36,
   "metadata": {},
   "outputs": [
    {
     "ename": "KeyboardInterrupt",
     "evalue": "",
     "output_type": "error",
     "traceback": [
      "\u001b[0;31m---------------------------------------------------------------------------\u001b[0m",
      "\u001b[0;31mKeyboardInterrupt\u001b[0m                         Traceback (most recent call last)",
      "\u001b[0;32m<ipython-input-36-e8d114c1080e>\u001b[0m in \u001b[0;36m<module>\u001b[0;34m()\u001b[0m\n\u001b[0;32m----> 1\u001b[0;31m \u001b[0mgetUmbrellas\u001b[0m\u001b[0;34m(\u001b[0m\u001b[0;36m5\u001b[0m\u001b[0;34m,\u001b[0m\u001b[0;34m[\u001b[0m\u001b[0;36m2\u001b[0m\u001b[0;34m,\u001b[0m\u001b[0;36m2\u001b[0m\u001b[0;34m]\u001b[0m\u001b[0;34m)\u001b[0m\u001b[0;34m\u001b[0m\u001b[0m\n\u001b[0m",
      "\u001b[0;32m<ipython-input-30-4dee969d7f40>\u001b[0m in \u001b[0;36mgetUmbrellas\u001b[0;34m(n, p)\u001b[0m\n\u001b[1;32m     14\u001b[0m     \u001b[0;32mfor\u001b[0m \u001b[0mi\u001b[0m \u001b[0;32min\u001b[0m \u001b[0mrange\u001b[0m\u001b[0;34m(\u001b[0m\u001b[0mlen\u001b[0m\u001b[0;34m(\u001b[0m\u001b[0mp\u001b[0m\u001b[0;34m)\u001b[0m\u001b[0;34m)\u001b[0m\u001b[0;34m:\u001b[0m\u001b[0;34m\u001b[0m\u001b[0m\n\u001b[1;32m     15\u001b[0m         \u001b[0;32mwhile\u001b[0m \u001b[0mn\u001b[0m\u001b[0;34m>=\u001b[0m \u001b[0mp\u001b[0m\u001b[0;34m[\u001b[0m\u001b[0mi\u001b[0m\u001b[0;34m]\u001b[0m\u001b[0;34m:\u001b[0m\u001b[0;34m\u001b[0m\u001b[0m\n\u001b[0;32m---> 16\u001b[0;31m             \u001b[0;32mif\u001b[0m\u001b[0;34m(\u001b[0m\u001b[0mn\u001b[0m\u001b[0;34m%\u001b[0m\u001b[0mp\u001b[0m\u001b[0;34m[\u001b[0m\u001b[0mi\u001b[0m\u001b[0;34m]\u001b[0m\u001b[0;34m==\u001b[0m\u001b[0;36m0\u001b[0m\u001b[0;34m)\u001b[0m\u001b[0;34m:\u001b[0m\u001b[0;34m\u001b[0m\u001b[0m\n\u001b[0m\u001b[1;32m     17\u001b[0m                 \u001b[0mcount\u001b[0m \u001b[0;34m+=\u001b[0m \u001b[0;36m1\u001b[0m\u001b[0;34m\u001b[0m\u001b[0m\n\u001b[1;32m     18\u001b[0m                 \u001b[0mn\u001b[0m \u001b[0;34m-=\u001b[0m \u001b[0mp\u001b[0m\u001b[0;34m[\u001b[0m\u001b[0mi\u001b[0m\u001b[0;34m]\u001b[0m\u001b[0;34m\u001b[0m\u001b[0m\n",
      "\u001b[0;31mKeyboardInterrupt\u001b[0m: "
     ]
    }
   ],
   "source": [
    "getUmbrellas(5,[2,2])"
   ]
  },
  {
   "cell_type": "code",
   "execution_count": 37,
   "metadata": {},
   "outputs": [],
   "source": [
    "def getUmbrellas(n, p):\n",
    "    count=0\n",
    "    for i in range(len(p)):\n",
    "        if(p[i]==n):\n",
    "            count=1\n",
    "            break\n",
    "    if(count!=1):\n",
    "        sums=sum(p)\n",
    "        if(sums==n):\n",
    "            count=len(p)\n",
    "            \n",
    "    p.sort(reverse=True)\n",
    "    for i in range(len(p)):\n",
    "        if(count!=1 and count!=len(p) and n>=p[i]):\n",
    "            while(n>=p[i]):\n",
    "                if(n%p[i]==0):\n",
    "                    count+=1\n",
    "                    n=n-p[i]\n",
    "                    \n",
    "    if(count==0):\n",
    "        count=-1\n",
    "    return count;"
   ]
  },
  {
   "cell_type": "code",
   "execution_count": 45,
   "metadata": {},
   "outputs": [],
   "source": [
    "def getUmbrellas(n,p):\n",
    "    p = sorted(p)[::-1]\n",
    "    for i in range(len(p)):\n",
    "        if n == p[i]:\n",
    "            return 1\n",
    "        for j in range(i,len(p)):\n",
    "            count = check(n,p[j:])\n",
    "            if  count == -1:\n",
    "                continue\n",
    "            if count == -2:\n",
    "                return -1\n",
    "            return count\n",
    "        \n",
    "    return -1\n",
    "\n",
    "\n",
    "def check(n, p):\n",
    "    if n!=0 and len(p)==0:\n",
    "        return -2\n",
    "    if len(p)==0\n",
    "    for i in range(len(p)):\n",
    "        if n%p[i]==0:\n",
    "            return n/p[i]\n",
    "        return (n/p[i]) + check(n%p[i],p[i+1:])\n",
    "    \n",
    "        tot += p[i]\n",
    "        if tot == n:\n",
    "            return i+1\n",
    "        if tot > n:\n",
    "            return -1\n",
    "    return -2\n",
    "    "
   ]
  },
  {
   "cell_type": "code",
   "execution_count": 47,
   "metadata": {},
   "outputs": [
    {
     "data": {
      "text/plain": [
       "10"
      ]
     },
     "execution_count": 47,
     "metadata": {},
     "output_type": "execute_result"
    }
   ],
   "source": [
    "getUmbrellas(20,[1,2,2,3])"
   ]
  },
  {
   "cell_type": "code",
   "execution_count": null,
   "metadata": {},
   "outputs": [],
   "source": []
  }
 ],
 "metadata": {
  "kernelspec": {
   "display_name": "Python 2",
   "language": "python",
   "name": "python2"
  },
  "language_info": {
   "codemirror_mode": {
    "name": "ipython",
    "version": 2
   },
   "file_extension": ".py",
   "mimetype": "text/x-python",
   "name": "python",
   "nbconvert_exporter": "python",
   "pygments_lexer": "ipython2",
   "version": "2.7.15"
  }
 },
 "nbformat": 4,
 "nbformat_minor": 2
}
