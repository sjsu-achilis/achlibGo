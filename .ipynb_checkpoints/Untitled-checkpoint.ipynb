{
 "cells": [
  {
   "cell_type": "code",
   "execution_count": 13,
   "metadata": {},
   "outputs": [
    {
     "name": "stdout",
     "output_type": "stream",
     "text": [
      "efabcd\n"
     ]
    }
   ],
   "source": [
    "s = \"abcdef\"\n",
    "\n",
    "ls = 10\n",
    "\n",
    "ls = ls % len(s)\n",
    "\n",
    "\n",
    "y = s[ls:]+s[:ls]\n",
    "\n",
    "print y"
   ]
  },
  {
   "cell_type": "code",
   "execution_count": 21,
   "metadata": {},
   "outputs": [
    {
     "name": "stdout",
     "output_type": "stream",
     "text": [
      "defabc\n"
     ]
    }
   ],
   "source": [
    "s = \"abcdef\"\n",
    "\n",
    "rs = 3\n",
    "\n",
    "rs = len(s) - (rs % len(s))\n",
    "\n",
    "z = s[rs:]+s[:rs]\n",
    "\n",
    "print z"
   ]
  },
  {
   "cell_type": "code",
   "execution_count": 24,
   "metadata": {},
   "outputs": [],
   "source": [
    "def getUmbrellas(n, p):\n",
    "    count=float(\"inf\")\n",
    "    # check for n == p[i]\n",
    "    for i in range(len(p)):\n",
    "        if p[i]==n:\n",
    "            return 1\n",
    "    \n",
    "    # check if n == sum[p]\n",
    "    if n == sum(p):\n",
    "        return len(p)\n",
    "    \n",
    "    # check for other conditions\n",
    "    p = sorted(p)[::-1]\n",
    "    for i in \n",
    "    \n",
    "                    \n",
    "    if(count==float(\"+inf\")):\n",
    "        return -1\n",
    "    \n",
    "    return count"
   ]
  },
  {
   "cell_type": "code",
   "execution_count": 29,
   "metadata": {},
   "outputs": [
    {
     "data": {
      "text/plain": [
       "2"
      ]
     },
     "execution_count": 29,
     "metadata": {},
     "output_type": "execute_result"
    }
   ],
   "source": [
    "getUmbrellas(4,[1,2,2])"
   ]
  },
  {
   "cell_type": "code",
   "execution_count": null,
   "metadata": {},
   "outputs": [],
   "source": [
    "def getUmbrellas(n, p):\n",
    "    count=0\n",
    "    for i in range(len(p)):\n",
    "        if(p[i]==n):\n",
    "            count=1\n",
    "            break\n",
    "    if(count!=1):\n",
    "        sums=sum(p)\n",
    "        if(sums==n):\n",
    "            count=len(p)\n",
    "            \n",
    "    p.sort(reverse=True)\n",
    "    for i in range(len(p)):\n",
    "        if(count!=1 and count!=len(p) and n>=p[i]):\n",
    "            while(n>=p[i]):\n",
    "                if(n%p[i]==0):\n",
    "                    count+=1\n",
    "                    n=n-p[i]\n",
    "                    \n",
    "    if(count==0):\n",
    "        count=-1\n",
    "    return count;"
   ]
  }
 ],
 "metadata": {
  "kernelspec": {
   "display_name": "Python 2",
   "language": "python",
   "name": "python2"
  },
  "language_info": {
   "codemirror_mode": {
    "name": "ipython",
    "version": 2
   },
   "file_extension": ".py",
   "mimetype": "text/x-python",
   "name": "python",
   "nbconvert_exporter": "python",
   "pygments_lexer": "ipython2",
   "version": "2.7.15"
  }
 },
 "nbformat": 4,
 "nbformat_minor": 2
}
